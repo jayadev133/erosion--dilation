{
  "nbformat": 4,
  "nbformat_minor": 0,
  "metadata": {
    "colab": {
      "provenance": []
    },
    "kernelspec": {
      "name": "python3",
      "display_name": "Python 3"
    },
    "language_info": {
      "name": "python"
    }
  },
  "cells": [
    {
      "cell_type": "code",
      "execution_count": 22,
      "metadata": {
        "colab": {
          "base_uri": "https://localhost:8080/",
          "height": 540
        },
        "id": "ChXmvY-PJcNT",
        "outputId": "84b5ab7a-a22b-4e79-cf9a-e7c6e7559b5d"
      },
      "outputs": [
        {
          "output_type": "execute_result",
          "data": {
            "text/plain": [
              "array([[[0, 0, 0],\n",
              "        [0, 0, 0],\n",
              "        [0, 0, 0],\n",
              "        ...,\n",
              "        [0, 0, 0],\n",
              "        [0, 0, 0],\n",
              "        [0, 0, 0]],\n",
              "\n",
              "       [[0, 0, 0],\n",
              "        [0, 0, 0],\n",
              "        [0, 0, 0],\n",
              "        ...,\n",
              "        [0, 0, 0],\n",
              "        [0, 0, 0],\n",
              "        [0, 0, 0]],\n",
              "\n",
              "       [[0, 0, 0],\n",
              "        [0, 0, 0],\n",
              "        [0, 0, 0],\n",
              "        ...,\n",
              "        [0, 0, 0],\n",
              "        [0, 0, 0],\n",
              "        [0, 0, 0]],\n",
              "\n",
              "       ...,\n",
              "\n",
              "       [[0, 0, 0],\n",
              "        [0, 0, 0],\n",
              "        [0, 0, 0],\n",
              "        ...,\n",
              "        [0, 0, 0],\n",
              "        [0, 0, 0],\n",
              "        [0, 0, 0]],\n",
              "\n",
              "       [[0, 0, 0],\n",
              "        [0, 0, 0],\n",
              "        [0, 0, 0],\n",
              "        ...,\n",
              "        [0, 0, 0],\n",
              "        [0, 0, 0],\n",
              "        [0, 0, 0]],\n",
              "\n",
              "       [[0, 0, 0],\n",
              "        [0, 0, 0],\n",
              "        [0, 0, 0],\n",
              "        ...,\n",
              "        [0, 0, 0],\n",
              "        [0, 0, 0],\n",
              "        [0, 0, 0]]], dtype=uint8)"
            ],
            "text/html": [
              "<style>\n",
              "      .ndarray_repr .ndarray_raw_data {\n",
              "        display: none;\n",
              "      }\n",
              "      .ndarray_repr.show_array .ndarray_raw_data {\n",
              "        display: block;\n",
              "      }\n",
              "      .ndarray_repr.show_array .ndarray_image_preview {\n",
              "        display: none;\n",
              "      }\n",
              "      </style>\n",
              "      <div id=\"id-54fb3a93-cce9-417b-a7d3-ce1068a53264\" class=\"ndarray_repr\"><pre>ndarray (500, 500, 3) <button style=\"padding: 0 2px;\">show data</button></pre><img src=\"data:image/png;base64,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\" class=\"ndarray_image_preview\" /><pre class=\"ndarray_raw_data\">array([[[0, 0, 0],\n",
              "        [0, 0, 0],\n",
              "        [0, 0, 0],\n",
              "        ...,\n",
              "        [0, 0, 0],\n",
              "        [0, 0, 0],\n",
              "        [0, 0, 0]],\n",
              "\n",
              "       [[0, 0, 0],\n",
              "        [0, 0, 0],\n",
              "        [0, 0, 0],\n",
              "        ...,\n",
              "        [0, 0, 0],\n",
              "        [0, 0, 0],\n",
              "        [0, 0, 0]],\n",
              "\n",
              "       [[0, 0, 0],\n",
              "        [0, 0, 0],\n",
              "        [0, 0, 0],\n",
              "        ...,\n",
              "        [0, 0, 0],\n",
              "        [0, 0, 0],\n",
              "        [0, 0, 0]],\n",
              "\n",
              "       ...,\n",
              "\n",
              "       [[0, 0, 0],\n",
              "        [0, 0, 0],\n",
              "        [0, 0, 0],\n",
              "        ...,\n",
              "        [0, 0, 0],\n",
              "        [0, 0, 0],\n",
              "        [0, 0, 0]],\n",
              "\n",
              "       [[0, 0, 0],\n",
              "        [0, 0, 0],\n",
              "        [0, 0, 0],\n",
              "        ...,\n",
              "        [0, 0, 0],\n",
              "        [0, 0, 0],\n",
              "        [0, 0, 0]],\n",
              "\n",
              "       [[0, 0, 0],\n",
              "        [0, 0, 0],\n",
              "        [0, 0, 0],\n",
              "        ...,\n",
              "        [0, 0, 0],\n",
              "        [0, 0, 0],\n",
              "        [0, 0, 0]]], dtype=uint8)</pre></div><script>\n",
              "      (() => {\n",
              "      const titles = ['show data', 'hide data'];\n",
              "      let index = 0\n",
              "      document.querySelector('#id-54fb3a93-cce9-417b-a7d3-ce1068a53264 button').onclick = (e) => {\n",
              "        document.querySelector('#id-54fb3a93-cce9-417b-a7d3-ce1068a53264').classList.toggle('show_array');\n",
              "        index = (++index) % 2;\n",
              "        document.querySelector('#id-54fb3a93-cce9-417b-a7d3-ce1068a53264 button').textContent = titles[index];\n",
              "        e.preventDefault();\n",
              "        e.stopPropagation();\n",
              "      }\n",
              "      })();\n",
              "    </script>"
            ]
          },
          "metadata": {},
          "execution_count": 22
        }
      ],
      "source": [
        "# NAME: JAYADEV PALLINTI\n",
        "# REG NO: 212223240058\n",
        "import cv2\n",
        "import numpy as np\n",
        "import matplotlib.pyplot as plt\n",
        "\n",
        "# Create a blank image\n",
        "image = np.zeros((500, 500, 3), dtype=np.uint8)\n",
        "\n",
        "# Add text on the image using cv2.putText\n",
        "font = cv2.FONT_HERSHEY_SIMPLEX\n",
        "cv2.putText(image, 'JAYADEV PALLINTI', (100, 250), font, 1, (255, 255, 255), 2, cv2.LINE_AA)"
      ]
    },
    {
      "cell_type": "code",
      "source": [
        "plt.imshow(cv2.cvtColor(image, cv2.COLOR_BGR2RGB))  # Convert BGR to RGB for displaying\n",
        "plt.title(\"Input Image with Text\")\n",
        "plt.axis('off')"
      ],
      "metadata": {
        "colab": {
          "base_uri": "https://localhost:8080/",
          "height": 445
        },
        "id": "KYw_fYYLKtoX",
        "outputId": "6751ab6b-a9ef-4741-facf-acb9ade72e02"
      },
      "execution_count": 13,
      "outputs": [
        {
          "output_type": "execute_result",
          "data": {
            "text/plain": [
              "(np.float64(-0.5), np.float64(499.5), np.float64(499.5), np.float64(-0.5))"
            ]
          },
          "metadata": {},
          "execution_count": 13
        },
        {
          "output_type": "display_data",
          "data": {
            "text/plain": [
              "<Figure size 640x480 with 1 Axes>"
            ],
            "image/png": "[encoded data removed]"
          },
          "metadata": {}
        }
      ]
    },
    {
      "cell_type": "code",
      "source": [
        "kernel = np.ones((3, 3), np.uint8)"
      ],
      "metadata": {
        "id": "MjnAMBo0Lsfm"
      },
      "execution_count": 16,
      "outputs": []
    },
    {
      "cell_type": "code",
      "source": [
        "eroded_image = cv2.erode(image, kernel, iterations=1)"
      ],
      "metadata": {
        "id": "bVAzkQErMuaX"
      },
      "execution_count": 17,
      "outputs": []
    },
    {
      "cell_type": "code",
      "source": [
        "plt.imshow(cv2.cvtColor(eroded_image, cv2.COLOR_BGR2RGB))  # Convert BGR to RGB\n",
        "plt.title(\"Eroded Image\")\n",
        "plt.axis('off')"
      ],
      "metadata": {
        "colab": {
          "base_uri": "https://localhost:8080/",
          "height": 445
        },
        "id": "QBtuRctIMv6C",
        "outputId": "f6901584-287f-4384-81de-d604947c92bb"
      },
      "execution_count": 18,
      "outputs": [
        {
          "output_type": "execute_result",
          "data": {
            "text/plain": [
              "(np.float64(-0.5), np.float64(499.5), np.float64(499.5), np.float64(-0.5))"
            ]
          },
          "metadata": {},
          "execution_count": 18
        },
        {
          "output_type": "display_data",
          "data": {
            "text/plain": [
              "<Figure size 640x480 with 1 Axes>"
            ],
            "image/png": "[encoded data removed]"
          },
          "metadata": {}
        }
      ]
    },
    {
      "cell_type": "code",
      "source": [
        "dilated_image = cv2.dilate(image, kernel, iterations=1)"
      ],
      "metadata": {
        "id": "EZCl5sFCMxOj"
      },
      "execution_count": 19,
      "outputs": []
    },
    {
      "cell_type": "code",
      "source": [
        "plt.imshow(cv2.cvtColor(dilated_image, cv2.COLOR_BGR2RGB))  # Convert BGR to RGB\n",
        "plt.title(\"Dilated Image\")\n",
        "plt.axis('off')"
      ],
      "metadata": {
        "colab": {
          "base_uri": "https://localhost:8080/",
          "height": 445
        },
        "id": "s-YSwP11MzT9",
        "outputId": "250773f8-d893-4773-e5f4-4aedfeb6f87c"
      },
      "execution_count": 20,
      "outputs": [
        {
          "output_type": "execute_result",
          "data": {
            "text/plain": [
              "(np.float64(-0.5), np.float64(499.5), np.float64(499.5), np.float64(-0.5))"
            ]
          },
          "metadata": {},
          "execution_count": 20
        },
        {
          "output_type": "display_data",
          "data": {
            "text/plain": [
              "<Figure size 640x480 with 1 Axes>"
            ],
            "image/png": "[encoded data removed]"
          },
          "metadata": {}
        }
      ]
    },
    {
      "cell_type": "code",
      "source": [],
      "metadata": {
        "id": "0uZ0JBKBM0lf"
      },
      "execution_count": null,
      "outputs": []
    }
  ]
}